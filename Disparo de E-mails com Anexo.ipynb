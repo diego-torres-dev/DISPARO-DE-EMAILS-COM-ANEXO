{
 "cells": [
  {
   "cell_type": "markdown",
   "id": "13193700",
   "metadata": {},
   "source": [
    "# Envio de E-mails Automático"
   ]
  },
  {
   "cell_type": "markdown",
   "id": "f944499f",
   "metadata": {},
   "source": [
    "## Importação de Bibliotecas"
   ]
  },
  {
   "cell_type": "code",
   "execution_count": 1,
   "id": "c0f4cfad",
   "metadata": {},
   "outputs": [],
   "source": [
    "# Importa o módulo os\n",
    "import os\n",
    "\n",
    "# Importa o módulo dotenv\n",
    "from dotenv import load_dotenv\n",
    "\n",
    "# Importa a biblioteca pandas com o apelido pd\n",
    "import pandas as pd\n",
    "\n",
    "# Importa a biblioteca yagmail\n",
    "import yagmail"
   ]
  },
  {
   "cell_type": "markdown",
   "id": "94ba6629",
   "metadata": {},
   "source": [
    "## Carregamento das Variáveis de Ambiente"
   ]
  },
  {
   "cell_type": "code",
   "execution_count": 2,
   "id": "514fc375",
   "metadata": {},
   "outputs": [
    {
     "data": {
      "text/plain": [
       "True"
      ]
     },
     "execution_count": 2,
     "metadata": {},
     "output_type": "execute_result"
    }
   ],
   "source": [
    "# Carrega as variáveis do arquivo .env para as variáveis de ambiente\n",
    "load_dotenv()"
   ]
  },
  {
   "cell_type": "markdown",
   "id": "df879017",
   "metadata": {},
   "source": [
    "## Obtenção dos Dados de Autenticação"
   ]
  },
  {
   "cell_type": "code",
   "execution_count": 3,
   "id": "b7592d0c",
   "metadata": {},
   "outputs": [],
   "source": [
    "# Dados de Autenticação\n",
    "remetente = os.getenv(\"NOME_USUARIO\")\n",
    "senha = os.getenv(\"SENHA\")"
   ]
  },
  {
   "cell_type": "markdown",
   "id": "5cac12a3",
   "metadata": {},
   "source": [
    "## Autenticação"
   ]
  },
  {
   "cell_type": "code",
   "execution_count": 4,
   "id": "7b1dfd09",
   "metadata": {},
   "outputs": [],
   "source": [
    "# Cria uma instância do gmail\n",
    "usuario = yagmail.SMTP(user = remetente, password = senha)"
   ]
  },
  {
   "cell_type": "markdown",
   "id": "9ef578de",
   "metadata": {},
   "source": [
    "## Obtenção dos Dados para Preencher Campos do E-mail e Envio"
   ]
  },
  {
   "cell_type": "code",
   "execution_count": 5,
   "id": "1dc32886",
   "metadata": {},
   "outputs": [
    {
     "name": "stdout",
     "output_type": "stream",
     "text": [
      "E-mails enviados com sucesso\n"
     ]
    }
   ],
   "source": [
    "# Criação do dataframe a partir do arquivo Excel\n",
    "df_destinatarios = pd.read_excel(\"Gerentes.xlsx\")\n",
    "\n",
    "for i, gerente in enumerate(df_destinatarios[\"Gerente\"]):\n",
    "    # Obtém o nome do gerente\n",
    "    nome_gerente = df_destinatarios.loc[i, \"Gerente\"]\n",
    "\n",
    "    # Obtém o endereço de e-mail do gerente\n",
    "    email_gerente = df_destinatarios.loc[i, \"E-mail\"]\n",
    "\n",
    "    # Obtém o arquivo a ser anexado ao e-mail\n",
    "    area = df_destinatarios.loc[i, \"Relatório\"]\n",
    "\n",
    "    # Preenchimento dos campos do e-mail\n",
    "    # Assunto\n",
    "    assunto = f\"Relatório de {area}\"\n",
    "\n",
    "    # Corpo do e-mail\n",
    "    texto = f\"\"\"\n",
    "    Prezado {nome_gerente},\n",
    "    Segue em anexo o Relatório de {area}.\n",
    "    Att.,\n",
    "    Diego Moura Torres\n",
    "    \"\"\"\n",
    "\n",
    "    # Anexo do e-mail\n",
    "    anexo = f\"{area}.xlsx\"\n",
    "\n",
    "    # Envia o e-mail\n",
    "    usuario.send(to=email_gerente, subject=assunto, contents=texto, attachments=anexo)\n",
    "    \n",
    "print('E-mails enviados com sucesso')"
   ]
  }
 ],
 "metadata": {
  "kernelspec": {
   "display_name": "Python 3 (ipykernel)",
   "language": "python",
   "name": "python3"
  },
  "language_info": {
   "codemirror_mode": {
    "name": "ipython",
    "version": 3
   },
   "file_extension": ".py",
   "mimetype": "text/x-python",
   "name": "python",
   "nbconvert_exporter": "python",
   "pygments_lexer": "ipython3",
   "version": "3.9.12"
  }
 },
 "nbformat": 4,
 "nbformat_minor": 5
}
